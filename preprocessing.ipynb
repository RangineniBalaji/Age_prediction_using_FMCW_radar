{
 "cells": [
  {
   "cell_type": "code",
   "execution_count": 36,
   "metadata": {},
   "outputs": [
    {
     "name": "stdout",
     "output_type": "stream",
     "text": [
      "[ 7.29112210e-304+7.29112221e-304j  8.28904606e-317-3.79050921e+232j\n",
      "  6.98350749e-251+8.28904606e-317j -1.06099790e-314+2.17912088e+167j\n",
      " -6.06552827e+066-1.00271241e+180j  2.82986450e+082-6.06553208e+066j\n",
      "  4.68465330e-088-8.36103282e+102j  6.50652483e+066-4.15694027e-283j\n",
      " -1.64543629e-108-1.22691237e-262j]\n",
      "Length of range_fft:  (7372955,)\n",
      "Number of Nan present:  0\n",
      "Number of inf present:  0\n"
     ]
    }
   ],
   "source": [
    "import numpy as np\n",
    "import matplotlib.pyplot as plt\n",
    "\n",
    "file_path = 'data1.raw.bin'\n",
    "\n",
    "complex_data = np.fromfile(file_path, dtype=np.complex128)\n",
    "print(complex_data[1:10])\n",
    "print(\"Length of range_fft: \",complex_data.shape)\n",
    "print(\"Number of Nan present: \",np.isnan(complex_data).sum())\n",
    "print(\"Number of inf present: \",np.isinf(complex_data).sum())"
   ]
  },
  {
   "cell_type": "code",
   "execution_count": 37,
   "metadata": {},
   "outputs": [
    {
     "name": "stdout",
     "output_type": "stream",
     "text": [
      "Length of range_fft:  (57601, 128)\n",
      "Number of Nan present:  213780\n",
      "Number of inf present:  1230303\n"
     ]
    }
   ],
   "source": [
    "\n",
    "num_samples_per_chirp = 128\n",
    "num_chirps = len(complex_data) // num_samples_per_chirp\n",
    "\n",
    "complex_data = complex_data[:num_chirps * num_samples_per_chirp]\n",
    "complex_data = complex_data.reshape((num_chirps, num_samples_per_chirp))\n",
    "\n",
    "range_fft_result = np.fft.fft(complex_data, axis=1)\n",
    "print(\"Length of range_fft: \",range_fft_result.shape)\n",
    "print(\"Number of Nan present: \",np.isnan(range_fft_result).sum())\n",
    "print(\"Number of inf present: \",np.isinf(range_fft_result).sum())"
   ]
  },
  {
   "cell_type": "code",
   "execution_count": null,
   "metadata": {},
   "outputs": [],
   "source": []
  }
 ],
 "metadata": {
  "kernelspec": {
   "display_name": "Python 3",
   "language": "python",
   "name": "python3"
  },
  "language_info": {
   "codemirror_mode": {
    "name": "ipython",
    "version": 3
   },
   "file_extension": ".py",
   "mimetype": "text/x-python",
   "name": "python",
   "nbconvert_exporter": "python",
   "pygments_lexer": "ipython3",
   "version": "3.10.4"
  }
 },
 "nbformat": 4,
 "nbformat_minor": 2
}
